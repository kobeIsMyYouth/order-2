{
 "cells": [
  {
   "cell_type": "code",
   "execution_count": null,
   "id": "e182c0da",
   "metadata": {
    "pycharm": {
     "name": "#%%\n"
    }
   },
   "outputs": [],
   "source": [
    "import numpy as np\n",
    "from scipy.optimize import minimize"
   ]
  },
  {
   "cell_type": "code",
   "execution_count": null,
   "id": "e5a2caef",
   "metadata": {
    "pycharm": {
     "name": "#%%\n"
    }
   },
   "outputs": [],
   "source": [
    "# data generlization\n",
    "car1 = np.array([\n",
    "    [0,0.05,0.1,0.05,0.01],\n",
    "    [0.01,0.1,0.3,0.1,0.01],\n",
    "    [0.01,0.05,0.1,0.05,0.01],\n",
    "    [0,0.01,0.01,0.01,0],\n",
    "    [0,0.01,0.01,0,0]\n",
    "])\n",
    "\n",
    "car2 = np.array([\n",
    "    [0,0.01,0.02,0.01,0.01],\n",
    "    [0,0.01,0.02,0.11,0.05],\n",
    "    [0.01,0.02,0.1,0.2,0.1],\n",
    "    [0.01,0.02,0.1,0.1,0.05],\n",
    "    [0,0.01,0.01,0.02,0.01]\n",
    "])\n",
    "\n",
    "\n",
    "car3 = np.array([\n",
    "    [0.01,0.01,0,0,0],\n",
    "    [0.01,0.01,0,0,0],\n",
    "    [0.05,0.05,0.01,0,0],\n",
    "    [0.4,0.2,0,0,0],\n",
    "    [0.2,0.05,0,0,0]\n",
    "])\n",
    "\n",
    "car4 = np.array([\n",
    "    [0,0,0,0,0],\n",
    "    [0.01,0.01,0.01,0.01,0],\n",
    "    [0.01,0.01,0.01,0.01,0],\n",
    "    [0.05,0.1,0.05,0.01,0],\n",
    "    [0.1,0.5,0.1,0.01,0]\n",
    "])"
   ]
  },
  {
   "cell_type": "code",
   "execution_count": null,
   "id": "5dbbe1e3",
   "metadata": {
    "pycharm": {
     "name": "#%%\n"
    }
   },
   "outputs": [],
   "source": [
    "def coverage_new(A, p):\n",
    "    sh = np.array(A.shape)\n",
    "    dis  = np.linalg.norm(A-p)\n",
    "    dis_normalized = dis / np.sqrt(sh.prod())\n",
    "    return 1-dis_normalized"
   ]
  },
  {
   "cell_type": "code",
   "execution_count": null,
   "id": "db596d0d",
   "metadata": {
    "pycharm": {
     "name": "#%%\n"
    }
   },
   "outputs": [],
   "source": [
    "def ws(A):\n",
    "    # 给定一个order-2信息粒，求对应的ws向量\n",
    "    \n",
    "    Ts = A.shape\n",
    "    ws = np.zeros(Ts)\n",
    "    \n",
    "    sum_scripts = np.sum(np.array(Ts))\n",
    "    \n",
    "    indexes = np.array(np.where(A == np.max(A)))\n",
    "#     sh = indexes.shape\n",
    "#     scripts = np.sum(indexes, axis=0)\n",
    "#     diffs = np.sum(abs(indexes - np.full_like((4), 2)), axis=0) # \n",
    " \n",
    "    if indexes.shape[1] > 1: # 多值的情况\n",
    "        diffs = np.zeros((indexes.shape[1], indexes.shape[1]))\n",
    "        for i in range(indexes.shape[1]-1):\n",
    "            for j in range(i+1, indexes.shape[1]):\n",
    "#                 print(abs(indexes[:,i] - indexes[:,j]))\n",
    "                diffs[i][j] = np.sum(abs(indexes[:,i] - indexes[:,j]))\n",
    "#         print(diffs)\n",
    "        diff_sum = np.zeros((indexes.shape[1]))\n",
    "        for i in range(indexes.shape[1]):\n",
    "#             print(diffs[:,i])\n",
    "#             print(diffs[i,:])\n",
    "            diff_sum[i] = np.sum(diffs[:,i] + diffs[i,:])\n",
    "\n",
    "        flag = np.argmin(diff_sum)\n",
    "#         print(flag)\n",
    "\n",
    "    #         inde = np.argmin(scripts - sum_scripts/2) # \n",
    "        for i in range(Ts[0]):\n",
    "            for j in range(Ts[1]):\n",
    "                    epsilon = abs(i-indexes[0][flag]) + abs(j-indexes[1][flag])   # 为1\n",
    "                    ws[i][j] = 1 - epsilon * (1/8)\n",
    "    \n",
    "    else: # 单值情况\n",
    "        for i in range(Ts[0]):\n",
    "            for j in range(Ts[1]):\n",
    "                    epsilon = abs(i-indexes[0][0]) + abs(j-indexes[1][0])  # 为1\n",
    "                    ws[i][j] = 1 - epsilon * (1/8)\n",
    "        \n",
    "    return ws"
   ]
  },
  {
   "cell_type": "code",
   "execution_count": null,
   "id": "4b088cfe",
   "metadata": {
    "pycharm": {
     "name": "#%%\n"
    }
   },
   "outputs": [],
   "source": [
    "def specificity(A):\n",
    "    m = np.max(A)\n",
    "    if np.sum(A == m) == 25:\n",
    "        return 0\n",
    "    else:\n",
    "        w = ws(A)\n",
    "        return (np.sum(A*w) - 0.5) / 0.5"
   ]
  },
  {
   "cell_type": "code",
   "execution_count": null,
   "id": "acedcb77",
   "metadata": {
    "pycharm": {
     "name": "#%%\n"
    }
   },
   "outputs": [],
   "source": [
    "bounds = [(0,1) for i in range(25)]\n",
    "\n",
    "\n",
    "p = car1\n",
    "\n",
    "\n",
    "class PSO():\n",
    "    def __init__(self, pN, dim, max_iter, c1, c2, c3, k, epsilon0):\n",
    "\n",
    "        self.k = k  ## 近邻个数\n",
    "\n",
    "        self.c1 = c1  # 加速因子\n",
    "        self.c2 = c2  # 加速因子\n",
    "        self.c3 = c3  # 加速因子\n",
    "        self.pN = pN  # 粒子数量\n",
    "        self.dim = dim  # 搜索维度\n",
    "        self.max_iter = max_iter  # 迭代次数\n",
    "\n",
    "        self.X = np.zeros((self.pN, self.dim))  # 所有粒子的位置：一个pN*dim的矩阵\n",
    "        self.Xfv = np.full((self.pN, 2), 1.0e78)\n",
    "\n",
    "        self.gg = np.zeros((self.dim))\n",
    "        self.gg_fit = np.full((2), 1.0e78)  # 全局最佳适应值\n",
    "        self.O = np.zeros((max_iter))\n",
    "        self.coverage = np.zeros((max_iter))\n",
    "        self.specificity = np.zeros((max_iter))\n",
    "\n",
    "        self.pbest = np.zeros((self.pN, self.dim))  # 个体经历的最佳位置：一个pN*dim的矩阵\n",
    "        self.p_fit = np.full((self.pN, 2), 1.0e78)  # 每个个体的历史最佳适应值\n",
    "\n",
    "        self.epsilon = epsilon0\n",
    "        self.epsilon0 = epsilon0\n",
    "    \n",
    "    def f(self, A):\n",
    "        \n",
    "        obj = -(coverage_new(A.reshape((5,5)), p))*(specificity(A.reshape(5,5)))\n",
    "        h = abs(np.sum(A) - 1)\n",
    "        \n",
    "        return obj, h\n",
    "    \n",
    "    def cov_sp(self, A):\n",
    "        \n",
    "        cov = coverage_new(A.reshape((5,5)), p)\n",
    "        sp = specificity(A.reshape(5,5))  \n",
    "        \n",
    "        return cov, sp\n",
    "\n",
    "    def fit(self, f1, phi1, f2, phi2, epsilon):\n",
    "        \"\"\"\n",
    "        epsilon约束处理技术\n",
    "        :param f: 目标函数\n",
    "        :param X1: 第一个待对比的解\n",
    "        :param X2: 第二个待对比的解\n",
    "        :param epsilon: 参数\n",
    "        :return: 按照epsilon约束处理规则，如果X1优于X2，返回Ture，否则False\n",
    "        \"\"\"\n",
    "        flag = False\n",
    "\n",
    "        if phi1 <= epsilon and phi2 <= epsilon and f1 < f2:\n",
    "            flag = True\n",
    "        if phi1 == phi2 and f1 < f2:\n",
    "            flag = True\n",
    "        if phi1 < phi2 and (phi1 > epsilon or phi2 > epsilon):\n",
    "            flag = True\n",
    "\n",
    "        return flag \n",
    "\n",
    "    def init_Population(self):\n",
    "        \"\"\"\n",
    "        初始化种群\n",
    "        \"\"\"\n",
    "        for i in range(self.pN):\n",
    "            for j in range(self.dim):\n",
    "                self.gg[j] = self.pbest[i][j] = self.X[i][j] = bounds[j][0] \\\n",
    "                                                                  + (bounds[j][1] - bounds[j][0]) * np.random.uniform(0,1)\n",
    "        \"\"\"\n",
    "        如果初始epsilon不等于0，初始化epsilon\n",
    "        \"\"\"\n",
    "        if self.epsilon0 != 0:\n",
    "            phix = []\n",
    "            for i in range(self.pN):\n",
    "                res = np.array(self.f(self.X[i])[1::])\n",
    "                phix.append(np.sum(res[res > 0]))\n",
    "            phix = sorted(phix)\n",
    "            self.epsilon0 = phix[int(0.2 * self.pN)]  ###top0.2\n",
    "\n",
    "        \"\"\"\n",
    "        初始化（目标函数，约束违反量）\n",
    "        \"\"\"\n",
    "        for i in range(self.pN):\n",
    "            res = np.array(self.f(self.X[i]))\n",
    "            self.Xfv[i][0] = self.p_fit[i][0] = res[0]\n",
    "            v = res[1::]\n",
    "            phi = np.sum(v[v > 0])\n",
    "            self.Xfv[i][1] = self.p_fit[i][1] = phi\n",
    "            if self.fit(res[0], phi, self.gg_fit[0], self.gg_fit[1], self.epsilon0):\n",
    "                self.gg = self.X[i].copy()\n",
    "                self.gg_fit[0] = res[0]\n",
    "                self.gg_fit[1] = phi\n",
    "\n",
    "    def iterator(self):\n",
    "        \n",
    "        \"\"\"\n",
    "        迭代\n",
    "        \"\"\"\n",
    "        for t in range(self.max_iter):\n",
    "            curreSet = {i for i in range(self.pN)}\n",
    "            if t < 0.2*self.max_iter:\n",
    "                self.epsilon = self.epsilon0 * (1 - t / (0.2*self.max_iter))**5\n",
    "            else:\n",
    "                self.epsilon = 0\n",
    "\n",
    "            \"\"\"\n",
    "            划分第一个子种群并进化\n",
    "            \"\"\"\n",
    "            indexes = np.full(self.k, 0)\n",
    "            Uk = np.zeros((self.dim))\n",
    "            for j in range(self.dim):\n",
    "                Uk[j] = bounds[j][0] + (bounds[j][1] - bounds[j][0]) \\\n",
    "                        * np.random.uniform(0,1)\n",
    "            mindistan = 1.0e+70\n",
    "            minindex = 0\n",
    "\n",
    "            for i in curreSet:\n",
    "                distan = np.linalg.norm(self.X[i] - Uk)\n",
    "                if distan < mindistan:\n",
    "                    mindistan = distan\n",
    "                    minindex = i\n",
    "            curreSet = curreSet - {minindex}\n",
    "            indexes[0] = minindex\n",
    "\n",
    "            for j in range(1, self.k):\n",
    "                mindistan = 1.0e+70\n",
    "                minindex = 0\n",
    "                for i in curreSet:\n",
    "                    distan = np.linalg.norm(self.X[i] - self.pbest[indexes[0]])\n",
    "                    if distan < mindistan:\n",
    "                        mindistan = distan\n",
    "                        minindex = i\n",
    "                curreSet = curreSet - {minindex}\n",
    "                indexes[j] = minindex\n",
    "\n",
    "            \"\"\"\n",
    "            进化第一个种群\n",
    "            \"\"\"\n",
    "            for j in range(self.k):\n",
    "                insets = set(indexes) - {indexes[j]}\n",
    "\n",
    "                a = np.random.choice(list(insets))\n",
    "                insets = insets - {a}\n",
    "                b = np.random.choice(list(insets))\n",
    "                self.X[indexes[j]] = self.c1 * np.random.uniform(0,1) * self.pbest[indexes[j]] \\\n",
    "                                     + self.c2 * np.random.uniform(0,1) * self.gg \\\n",
    "                                     + self.c3 * np.random.uniform(0,1) * (self.pbest[a] - self.pbest[b])\n",
    "                \"\"\"\n",
    "                控制在搜索范围内\n",
    "                \"\"\"\n",
    "                for d in range(self.dim):\n",
    "                    if self.X[indexes[j]][d] < bounds[d][0]:\n",
    "                        self.X[indexes[j]][d] = bounds[d][0]\n",
    "                    if self.X[indexes[j]][d] > bounds[d][1]:\n",
    "                        self.X[indexes[j]][d] = bounds[d][1]\n",
    "\n",
    "                res = np.array(self.f(self.X[indexes[j]]))\n",
    "                v = res[1::]\n",
    "                phi = np.sum(v[v > 0])\n",
    "\n",
    "                if self.fit(res[0], phi, self.p_fit[indexes[j]][0], self.p_fit[indexes[j]][1], self.epsilon):\n",
    "                    self.p_fit[indexes[j]][0] = res[0]\n",
    "                    self.p_fit[indexes[j]][1] = phi\n",
    "                    self.pbest[indexes[j]] = self.X[indexes[j]].copy()\n",
    "                    if self.fit(res[0], phi, self.gg_fit[0], self.gg_fit[1], self.epsilon):\n",
    "                        self.gg_fit[0] = res[0]\n",
    "                        self.gg_fit[1] = phi\n",
    "                        self.gg = self.X[indexes[j]].copy()\n",
    "\n",
    "\n",
    "#                 print((self.gg_fit[0], self.gg_fit[1], t * 401 + (j+1)))\n",
    "\n",
    "            \"\"\"\n",
    "            划分其他子种群并进化\n",
    "            \"\"\"\n",
    "            for n in range(1, int(self.pN / self.k)):\n",
    "                preindexes = indexes\n",
    "                indexes = np.full(self.k, 0)\n",
    "                Uk = np.zeros((self.dim))\n",
    "                for j in range(self.dim):\n",
    "                    Uk[j] = bounds[j][0] + (bounds[j][1] - bounds[j][0])\\\n",
    "                                   * np.random.uniform(0,1)\n",
    "                mindistan = 1.0e+70\n",
    "                minindex = 0\n",
    "\n",
    "                for i in curreSet:\n",
    "                    distan = np.linalg.norm(self.X[i] - Uk)\n",
    "                    if distan < mindistan:\n",
    "                        mindistan = distan\n",
    "                        minindex = i\n",
    "                curreSet = curreSet - {minindex}\n",
    "                indexes[0] = minindex\n",
    "\n",
    "                for j in range(1,self.k):\n",
    "                    mindistan = 1.0e+70\n",
    "                    minindex = 0\n",
    "                    for i in curreSet:\n",
    "                        distan = np.linalg.norm(self.X[i] - self.pbest[indexes[0]])\n",
    "                        if distan < mindistan:\n",
    "                            mindistan = distan\n",
    "                            minindex = i\n",
    "                    curreSet = curreSet - {minindex}\n",
    "                    indexes[j] = minindex\n",
    "\n",
    "                for j in range(self.k):\n",
    "                    insets = set(indexes) - {indexes[j]}\n",
    "                    c = np.random.choice(list(insets))\n",
    "\n",
    "                    self.X[indexes[j]] = self.c1 * np.random.uniform(0,1) * self.pbest[indexes[j]] \\\n",
    "                                         + self.c2 * np.random.uniform(0,1) * self.gg \\\n",
    "                                         + self.c3 * np.random.uniform(0,1) * (self.pbest[preindexes[j]] - self.pbest[c])\n",
    "                    \"\"\"\n",
    "                    控制在搜索范围内\n",
    "                    \"\"\"\n",
    "                    for d in range(self.dim):\n",
    "                        if self.X[indexes[j]][d] < bounds[d][0]:\n",
    "                            self.X[indexes[j]][d] = bounds[d][0]\n",
    "                        if self.X[indexes[j]][d] > bounds[d][1]:\n",
    "                            self.X[indexes[j]][d] = bounds[d][1]\n",
    "\n",
    "                    res = np.array(self.f(self.X[indexes[j]]))\n",
    "                    v = res[1::]\n",
    "                    phi = np.sum(v[v > 0])\n",
    "\n",
    "                    if self.fit(res[0], phi, self.p_fit[indexes[j]][0], self.p_fit[indexes[j]][1], self.epsilon):\n",
    "                        self.p_fit[indexes[j]][0] = res[0]\n",
    "                        self.p_fit[indexes[j]][1] = phi\n",
    "                        self.pbest[indexes[j]] = self.X[indexes[j]].copy()\n",
    "                        if self.fit(res[0], phi, self.gg_fit[0], self.gg_fit[1], self.epsilon):\n",
    "                            self.gg_fit[0] = res[0]\n",
    "                            self.gg_fit[1] = phi\n",
    "                            self.gg = self.X[indexes[j]].copy()\n",
    "\n",
    "\n",
    "#                     print((self.gg_fit[0], self.gg_fit[1], t * 401 + 10*n + (j+1)))\n",
    "\n",
    "            \"\"\"\n",
    "            记忆种群进化\n",
    "            \"\"\"\n",
    "            for i in range(self.pN):\n",
    "                indexes = {j for j in range(self.pN)} - {i}\n",
    "                e = np.random.choice(list(indexes))\n",
    "                pbest_new = self.pbest[i].copy()\n",
    "                if self.fit(self.p_fit[i][0], self.p_fit[i][1], self.p_fit[e][0], self.p_fit[e][1], self.epsilon):\n",
    "                    f = np.random.choice(list(indexes))\n",
    "                    indexes = indexes - {f}\n",
    "                    g = np.random.choice(list(indexes))\n",
    "                    indexes = indexes - {g}\n",
    "                    h = np.random.choice(list(indexes))\n",
    "                    for j in range(self.dim):\n",
    "                        if np.random.uniform(0, 1) > 0.5:\n",
    "                            pbest_new[j] = self.pbest[f][j] \\\n",
    "                                               + (np.random.uniform(-1, 1)) * (self.pbest[g][j] - self.pbest[h][j])\n",
    "                else:\n",
    "                    l = np.random.choice(list(indexes))\n",
    "                    indexes = indexes - {l}\n",
    "                    m = np.random.choice(list(indexes))\n",
    "                    pbest_new = self.pbest[i] + np.random.uniform(0,1) * (self.pbest[e] - self.pbest[i]) \\\n",
    "                                    + np.random.uniform(0,1) * (self.pbest[l] - self.pbest[m])\n",
    "\n",
    "                \"\"\"\n",
    "                控制在搜索范围内\n",
    "                \"\"\"\n",
    "                for d in range(self.dim):\n",
    "                    if pbest_new[d] < bounds[d][0]:\n",
    "                        pbest_new[d] = bounds[d][0]\n",
    "                    if pbest_new[d] > bounds[d][1]:\n",
    "                        pbest_new[d] = bounds[d][1]\n",
    "\n",
    "                res = np.array(self.f(pbest_new))\n",
    "                v = res[1::]\n",
    "                phi = np.sum(v[v > 0])\n",
    "\n",
    "                if self.fit(res[0], phi, self.p_fit[i][0], self.p_fit[i][1], self.epsilon):\n",
    "                    self.p_fit[i][0] = res[0]\n",
    "                    self.p_fit[i][1] = phi\n",
    "                    self.pbest[i] = pbest_new.copy()\n",
    "                    if self.fit(res[0], phi, self.gg_fit[0], self.gg_fit[1], self.epsilon):\n",
    "                        self.gg_fit[0] = res[0]\n",
    "                        self.gg_fit[1] = phi\n",
    "                        self.gg = pbest_new.copy()\n",
    "\n",
    "#                 print((self.gg_fit[0], self.gg_fit[1], t * 401 + 200 + (i+1)))\n",
    "\n",
    "            \"\"\"\n",
    "            全局最优解的混合\n",
    "            \"\"\"\n",
    "            gg_new = self.gg.copy()\n",
    "            if np.random.uniform(0,1) < (1 / self.dim):\n",
    "                dr = np.random.choice([i for i in range(self.dim)])\n",
    "                gg_new[dr] = self.gg[dr] + (np.random.uniform(0,1)) * (bounds[dr][1] - bounds[dr][0])\n",
    "                if gg_new[dr] < bounds[dr][0]:\n",
    "                    gg_new[dr] = bounds[dr][0]\n",
    "                if gg_new[dr] > bounds[dr][1]:\n",
    "                    gg_new[dr] = bounds[dr][1]\n",
    "\n",
    "            res = np.array(self.f(gg_new))\n",
    "            v = res[1::]\n",
    "            phi = np.sum(v[v > 0])\n",
    "\n",
    "            if self.fit(res[0], phi, self.gg_fit[0], self.gg_fit[1], self.epsilon):\n",
    "                self.gg_fit[0] = res[0]\n",
    "                self.gg_fit[1] = phi\n",
    "                self.gg = gg_new.copy()\n",
    "            \n",
    "#             self.O = self.gg_fit[0]\n",
    "            self.coverage[t], self.specificity[t] = self.cov_sp(self.gg)\n",
    "            self.O[t] = self.coverage[t] * self.specificity[t]\n",
    "                       \n",
    "#             print((self.gg_fit[0], self.gg_fit[1], t * 401 + 401))\n",
    "\n",
    "\n",
    "        return 1\n"
   ]
  },
  {
   "cell_type": "code",
   "execution_count": null,
   "id": "767c5a10",
   "metadata": {
    "pycharm": {
     "name": "#%%\n"
    }
   },
   "outputs": [],
   "source": [
    "# P = CMPSOWV.PSO(100, G01.dim, 2488, 4.1/3, 4.1/3, 4.1/3, 10, 0)\n",
    "# def __init__(self, pN, dim, max_iter, c1, c2, c3, k, epsilon0):\n",
    "# my_pso = PSO(200, 25, 2000, 4.1/3, 4.1/3, 4.1/3, 10, 1)\n",
    "# my_pso.init_Population()\n",
    "# my_pso.iterator()\n",
    "\n",
    "runs = 25\n",
    "feas = 0\n",
    "covs = []\n",
    "sps = []\n",
    "O = []\n",
    "\n",
    "for i in range(runs):\n",
    "    my_pso = PSO(200, 25, 1000, 4.1/3, 4.1/3, 4.1/3, 10, 0)\n",
    "    my_pso.init_Population()\n",
    "    my_pso.iterator()\n",
    "    if my_pso.gg_fit[1] == 0:\n",
    "        feas += 1\n",
    "        covs.append(my_pso.coverage[-1])\n",
    "        sps.append(my_pso.specificity[-1])\n",
    "        O.append(my_pso.O[-1])\n",
    "    print(i)"
   ]
  },
  {
   "cell_type": "code",
   "execution_count": null,
   "id": "99a80738",
   "metadata": {
    "pycharm": {
     "name": "#%%\n"
    }
   },
   "outputs": [],
   "source": [
    "np.max(covs)"
   ]
  },
  {
   "cell_type": "code",
   "execution_count": null,
   "id": "4726fab4",
   "metadata": {
    "pycharm": {
     "name": "#%%\n"
    }
   },
   "outputs": [],
   "source": [
    "np.min(covs)"
   ]
  },
  {
   "cell_type": "code",
   "execution_count": null,
   "id": "9ace92d3",
   "metadata": {
    "pycharm": {
     "name": "#%%\n"
    }
   },
   "outputs": [],
   "source": [
    "np.mean(covs)"
   ]
  },
  {
   "cell_type": "code",
   "execution_count": null,
   "id": "ac7c3564",
   "metadata": {
    "pycharm": {
     "name": "#%%\n"
    }
   },
   "outputs": [],
   "source": [
    "np.std(covs)"
   ]
  },
  {
   "cell_type": "code",
   "execution_count": null,
   "id": "5c36e063",
   "metadata": {
    "pycharm": {
     "name": "#%%\n"
    }
   },
   "outputs": [],
   "source": [
    "np.max(sps)"
   ]
  },
  {
   "cell_type": "code",
   "execution_count": null,
   "id": "f9520696",
   "metadata": {
    "pycharm": {
     "name": "#%%\n"
    }
   },
   "outputs": [],
   "source": [
    "np.min(sps)"
   ]
  },
  {
   "cell_type": "code",
   "execution_count": null,
   "id": "54ee45b8",
   "metadata": {
    "pycharm": {
     "name": "#%%\n"
    }
   },
   "outputs": [],
   "source": [
    "np.mean(sps)"
   ]
  },
  {
   "cell_type": "code",
   "execution_count": null,
   "id": "e793fdf4",
   "metadata": {
    "pycharm": {
     "name": "#%%\n"
    }
   },
   "outputs": [],
   "source": [
    "np.std(sps)"
   ]
  },
  {
   "cell_type": "code",
   "execution_count": null,
   "id": "e5a110d3",
   "metadata": {
    "pycharm": {
     "name": "#%%\n"
    }
   },
   "outputs": [],
   "source": [
    "feas"
   ]
  },
  {
   "cell_type": "code",
   "execution_count": null,
   "id": "176850b0",
   "metadata": {
    "pycharm": {
     "name": "#%%\n"
    }
   },
   "outputs": [],
   "source": []
  }
 ],
 "metadata": {
  "kernelspec": {
   "display_name": "Python 3 (ipykernel)",
   "language": "python",
   "name": "python3"
  },
  "language_info": {
   "codemirror_mode": {
    "name": "ipython",
    "version": 3
   },
   "file_extension": ".py",
   "mimetype": "text/x-python",
   "name": "python",
   "nbconvert_exporter": "python",
   "pygments_lexer": "ipython3",
   "version": "3.7.13"
  }
 },
 "nbformat": 4,
 "nbformat_minor": 5
}