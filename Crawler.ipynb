{
 "cells": [
  {
   "cell_type": "code",
   "execution_count": null,
   "id": "1173064f",
   "metadata": {
    "pycharm": {
     "name": "#%%\n"
    }
   },
   "outputs": [],
   "source": [
    "import time\n",
    "from selenium import webdriver\n",
    "from selenium.webdriver.common.keys import Keys\n",
    "\n",
    "from selenium.webdriver.support.ui import WebDriverWait\n",
    "from selenium.webdriver.support import expected_conditions as EC\n",
    "from selenium.webdriver.common.by import By\n",
    "\n",
    "# 修改为您的WebDriver的路径\n",
    "webdriver_path = './chromedriver_mac_arm64/chromedriver'\n",
    "\n",
    "# 商品URL\n",
    "product_url = 'https://detail.tmall.com/item_o.htm?spm=a1z10.4-b-s.w4007-18945924930.9.36f455f7zLj0GR&de_time=1680640382812&id=683027492412'\n",
    "\n",
    "# 启动WebDriver\n",
    "driver = webdriver.Chrome(executable_path=webdriver_path)\n",
    "\n",
    "# 等待页面加载\n",
    "# wait = WebDriverWait(driver, 10)\n",
    "# comments_tab = wait.until(EC.element_to_be_clickable((By.XPATH, '//*[@id=\"J_TabBar\"]/li[2]/a')))\n",
    "# comments_tab.click()\n",
    "\n",
    "# 访问商品页面\n",
    "driver.get(product_url)\n",
    "\n",
    "# 等待页面加载\n",
    "time.sleep(3)\n",
    "\n",
    "# 点击评论标签\n",
    "comments_tab = driver.find_element_by_xpath('//*[@id=\"J_TabBar\"]/li[2]/a')\n",
    "comments_tab.click()\n",
    "\n",
    "# 等待评论加载\n",
    "time.sleep(3)\n",
    "\n",
    "# 爬取评论\n",
    "while True:\n",
    "    try:\n",
    "        # 获取评论列表\n",
    "        comments_list = driver.find_elements_by_xpath('//div[@class=\"rate-grid\"]/table/tbody/tr/td[@class=\"tm-col-master\"]/div[@class=\"tm-rate-content\"]')\n",
    "\n",
    "        # 输出评论\n",
    "        for comment in comments_list:\n",
    "            print(comment.text)\n",
    "\n",
    "        # 点击下一页\n",
    "        next_page_btn = driver.find_element_by_xpath('//div[@class=\"rate-paginator\"]/a[@class=\"rate-page-next\"]')\n",
    "        next_page_btn.click()\n",
    "        \n",
    "        # 等待下一页评论加载\n",
    "        time.sleep(3)\n",
    "\n",
    "    except Exception as e:\n",
    "        print(e)\n",
    "        break\n",
    "\n",
    "# 关闭WebDriver\n",
    "driver.quit()\n"
   ]
  },
  {
   "cell_type": "code",
   "execution_count": null,
   "id": "3387eeb0",
   "metadata": {
    "pycharm": {
     "name": "#%%\n"
    }
   },
   "outputs": [],
   "source": []
  }
 ],
 "metadata": {
  "kernelspec": {
   "display_name": "Python 3 (ipykernel)",
   "language": "python",
   "name": "python3"
  },
  "language_info": {
   "codemirror_mode": {
    "name": "ipython",
    "version": 3
   },
   "file_extension": ".py",
   "mimetype": "text/x-python",
   "name": "python",
   "nbconvert_exporter": "python",
   "pygments_lexer": "ipython3",
   "version": "3.7.13"
  }
 },
 "nbformat": 4,
 "nbformat_minor": 5
}