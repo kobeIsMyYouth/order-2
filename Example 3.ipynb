{
 "cells": [
  {
   "cell_type": "code",
   "execution_count": null,
   "id": "e182c0da",
   "metadata": {
    "pycharm": {
     "name": "#%%\n"
    }
   },
   "outputs": [],
   "source": [
    "import numpy as np\n",
    "from scipy.optimize import minimize"
   ]
  },
  {
   "cell_type": "code",
   "execution_count": null,
   "id": "e5a2caef",
   "metadata": {
    "pycharm": {
     "name": "#%%\n"
    }
   },
   "outputs": [],
   "source": [
    "l = 10000\n",
    "data = []\n",
    "for i in range(l):\n",
    "    p = [1/7,3/7,1/7,1/14,1/14,1/14,1/14]\n",
    "    indexes = [0,1,2,3,4,5,6]\n",
    "    tep = [0,0,0,0,0,0,0]\n",
    "    ind_choiced = np.random.choice(indexes,p=p)\n",
    "    tep[ind_choiced] = 1\n",
    "    data.append(tep.copy())\n",
    "    tep[ind_choiced] = 0\n",
    "data = np.array(data)"
   ]
  },
  {
   "cell_type": "code",
   "execution_count": null,
   "id": "3cb68cac",
   "metadata": {
    "pycharm": {
     "name": "#%%\n"
    }
   },
   "outputs": [],
   "source": [
    "def wc(ln):\n",
    "    # 给定一个参考信息粒ln，求对应的wc向量\n",
    "    \n",
    "    T = len(ln)\n",
    "    wc = np.zeros((T))\n",
    "    index = np.where(ln == 1)[0][0]\n",
    "    \n",
    "    for i in range(index, -1, -1):\n",
    "        wc[i] = 1 - (index - i) * 1 / (T - 1)\n",
    "        \n",
    "    for j in range(index+1, T):\n",
    "        wc[j] = 1 - (j - index) * 1 / (T - 1)\n",
    "    return wc"
   ]
  },
  {
   "cell_type": "code",
   "execution_count": null,
   "id": "7d25281f",
   "metadata": {
    "pycharm": {
     "name": "#%%\n"
    }
   },
   "outputs": [],
   "source": [
    "def coverage_new(A,p):\n",
    "    dis  = np.linalg.norm(A-p)\n",
    "    dis_normalized = dis / np.sqrt(len(A))\n",
    "    return 1-dis_normalized"
   ]
  },
  {
   "cell_type": "code",
   "execution_count": null,
   "id": "a67b912f",
   "metadata": {
    "pycharm": {
     "name": "#%%\n"
    }
   },
   "outputs": [],
   "source": [
    "def coverage(A, ln):\n",
    "    # 给定一个order-2信息粒A和一个参考信息粒ln，求A对ln的覆盖性\n",
    "    w = wc(ln)\n",
    "    return np.dot(A, w)"
   ]
  },
  {
   "cell_type": "code",
   "execution_count": null,
   "id": "d8653eca",
   "metadata": {
    "pycharm": {
     "name": "#%%\n"
    }
   },
   "outputs": [],
   "source": [
    "def avg_coverage(A, data):\n",
    "    sum_coverage = 0\n",
    "    for i in range(len(data)):\n",
    "        sum_coverage += coverage(A, data[i])\n",
    "    return sum_coverage / len(data)"
   ]
  },
  {
   "cell_type": "code",
   "execution_count": null,
   "id": "db596d0d",
   "metadata": {
    "pycharm": {
     "name": "#%%\n"
    }
   },
   "outputs": [],
   "source": [
    "def ws(A):\n",
    "    # 给定一个order-2信息粒，求对应的ws向量\n",
    "    \n",
    "    T = len(A)\n",
    "    ws = np.zeros((T))\n",
    "    \n",
    "    indexes = np.where(A == np.max(A))[0]\n",
    "    l = len(indexes)\n",
    "    \n",
    "    if l % 2 != 0:\n",
    "        target_index = indexes[int((l - 1) / 2)]\n",
    "        for i in range(target_index, -1, -1):\n",
    "            ws[i] = 1 - (target_index - i) * 1 / (T - 1)\n",
    "        \n",
    "        for j in range(target_index+1, T):\n",
    "            ws[j] = 1 - (j - target_index) * 1 / (T - 1)\n",
    "    \n",
    "    else:\n",
    "        target_index_1 = indexes[int(l / 2)]\n",
    "        target_index_2 = indexes[int(l / 2) - 1]\n",
    "        \n",
    "        for i in range(target_index_1, -1, -1):\n",
    "            ws[i] = 1 - (target_index_1 - i) * 1 / (T - 1)\n",
    "        \n",
    "        for j in range(target_index_1+1, T):\n",
    "            ws[j] = 1 - (j - target_index_1) * 1 / (T - 1)\n",
    "        \n",
    "        ws1 = ws.copy()\n",
    "        specificity_1 = np.dot(A, ws1)\n",
    "        \n",
    "        for i in range(target_index_2, -1, -1):\n",
    "            ws[i] = 1 - (target_index_2 - i) * 1 / (T - 1)\n",
    "        \n",
    "        for j in range(target_index_2+1, T):\n",
    "            ws[j] = 1 - (j - target_index_2) * 1 / (T - 1)\n",
    "        \n",
    "        ws2 = ws.copy()\n",
    "        specificity_2 = np.dot(A, ws2)\n",
    "\n",
    "        if specificity_1 > specificity_2:\n",
    "            ws = ws1\n",
    "    return ws"
   ]
  },
  {
   "cell_type": "code",
   "execution_count": null,
   "id": "4b088cfe",
   "metadata": {
    "pycharm": {
     "name": "#%%\n"
    }
   },
   "outputs": [],
   "source": [
    "def specificity(A):\n",
    "    T = len(A)\n",
    "    m = np.max(A)\n",
    "    if np.sum(A == m) == T:\n",
    "        return 0\n",
    "    else:\n",
    "        w = ws(A)\n",
    "        return (np.dot(A, w) - 0.5) / 0.5"
   ]
  },
  {
   "cell_type": "code",
   "execution_count": null,
   "id": "4ff72a1c",
   "metadata": {
    "pycharm": {
     "name": "#%%\n"
    }
   },
   "outputs": [],
   "source": [
    "# e = 1e-10 # 非常接近0的值\n",
    "# a = 0.5\n",
    "# b = 0.5\n",
    "# fun = lambda A : -(a*avg_coverage(A, data) + b*specificity(A)) # 约束函数\n",
    "\n",
    "# cons = ({'type': 'eq', 'fun': lambda A: np.sum(A) - 1}, # xyz=1\n",
    "#         {'type': 'ineq', 'fun': lambda A: A[0] - e}, \n",
    "#         {'type': 'ineq', 'fun': lambda A: A[1] - e},\n",
    "#         {'type': 'ineq', 'fun': lambda A: A[2] - e},\n",
    "#         {'type': 'ineq', 'fun': lambda A: A[3] - e}, \n",
    "#         {'type': 'ineq', 'fun': lambda A: A[4] - e},\n",
    "#         {'type': 'ineq', 'fun': lambda A: A[5] - e},\n",
    "#         {'type': 'ineq', 'fun': lambda A: A[6] - e}\n",
    "#        )\n",
    "# A0 = np.array((0, 1, 0, 0, 0, 0, 0)) # 设置初始值\n",
    "# res = minimize(fun, x0, method='SLSQP', constraints=cons)\n",
    "# print('最小值：',res.fun)\n",
    "# print('最优解：',res.x)\n",
    "# print('迭代终止是否成功：', res.success)\n",
    "# print('迭代终止原因：', res.message)\n"
   ]
  },
  {
   "cell_type": "code",
   "execution_count": null,
   "id": "acedcb77",
   "metadata": {
    "pycharm": {
     "name": "#%%\n"
    }
   },
   "outputs": [],
   "source": [
    "bounds = [(0,1), (0,1), (0,1), (0,1), (0,1), (0,1), (0,1)]\n",
    "\n",
    "a = 0.5\n",
    "b = 0.5\n",
    "p = np.array([1/7,3/7,1/7,1/14,1/14,1/14,1/14])\n",
    "\n",
    "class PSO():\n",
    "    def __init__(self, pN, dim, max_iter, c1, c2, c3, k, epsilon0):\n",
    "\n",
    "        self.k = k  ## 近邻个数\n",
    "\n",
    "        self.c1 = c1  # 加速因子\n",
    "        self.c2 = c2  # 加速因子\n",
    "        self.c3 = c3  # 加速因子\n",
    "        self.pN = pN  # 粒子数量\n",
    "        self.dim = dim  # 搜索维度\n",
    "        self.max_iter = max_iter  # 迭代次数\n",
    "\n",
    "        self.X = np.zeros((self.pN, self.dim))  # 所有粒子的位置：一个pN*dim的矩阵\n",
    "        self.Xfv = np.full((self.pN, 2), 1.0e78)\n",
    "\n",
    "        self.gg = np.zeros((self.dim))\n",
    "        self.gg_fit = np.full((2), 1.0e78)  # 全局最佳适应值\n",
    "        \n",
    "        self.O = np.zeros((max_iter))\n",
    "        self.coverage = np.zeros((max_iter))\n",
    "        self.specificity = np.zeros((max_iter))\n",
    "\n",
    "        self.pbest = np.zeros((self.pN, self.dim))  # 个体经历的最佳位置：一个pN*dim的矩阵\n",
    "        self.p_fit = np.full((self.pN, 2), 1.0e78)  # 每个个体的历史最佳适应值\n",
    "\n",
    "        self.epsilon = epsilon0\n",
    "        self.epsilon0 = epsilon0\n",
    "    \n",
    "    def f(self, A):\n",
    "        obj = -(coverage_new(A, p)*specificity(A))\n",
    "        h = abs(np.sum(A) - 1)\n",
    "        return obj, h\n",
    "\n",
    "    def fit(self, f1, phi1, f2, phi2, epsilon):\n",
    "        \"\"\"\n",
    "        epsilon约束处理技术\n",
    "        :param f: 目标函数\n",
    "        :param X1: 第一个待对比的解\n",
    "        :param X2: 第二个待对比的解\n",
    "        :param epsilon: 参数\n",
    "        :return: 按照epsilon约束处理规则，如果X1优于X2，返回Ture，否则False\n",
    "        \"\"\"\n",
    "        flag = False\n",
    "\n",
    "        if phi1 <= epsilon and phi2 <= epsilon and f1 < f2:\n",
    "            flag = True\n",
    "        if phi1 == phi2 and f1 < f2:\n",
    "            flag = True\n",
    "        if phi1 < phi2 and (phi1 > epsilon or phi2 > epsilon):\n",
    "            flag = True\n",
    "\n",
    "        return flag \n",
    "\n",
    "    def init_Population(self):\n",
    "        \"\"\"\n",
    "        初始化种群\n",
    "        \"\"\"\n",
    "        for i in range(self.pN):\n",
    "            for j in range(self.dim):\n",
    "                self.gg[j] = self.pbest[i][j] = self.X[i][j] = bounds[j][0] \\\n",
    "                                                                  + (bounds[j][1] - bounds[j][0]) * np.random.uniform(0,1)\n",
    "        \"\"\"\n",
    "        如果初始epsilon不等于0，初始化epsilon\n",
    "        \"\"\"\n",
    "        if self.epsilon0 != 0:\n",
    "            phix = []\n",
    "            for i in range(self.pN):\n",
    "                res = np.array(self.f(self.X[i])[1::])\n",
    "                phix.append(np.sum(res[res > 0]))\n",
    "            phix = sorted(phix)\n",
    "            self.epsilon0 = phix[int(0.2 * self.pN)]  ###top0.2\n",
    "\n",
    "        \"\"\"\n",
    "        初始化（目标函数，约束违反量）\n",
    "        \"\"\"\n",
    "        for i in range(self.pN):\n",
    "            res = np.array(self.f(self.X[i]))\n",
    "            self.Xfv[i][0] = self.p_fit[i][0] = res[0]\n",
    "            v = res[1::]\n",
    "            phi = np.sum(v[v > 0])\n",
    "            self.Xfv[i][1] = self.p_fit[i][1] = phi\n",
    "            if self.fit(res[0], phi, self.gg_fit[0], self.gg_fit[1], self.epsilon0):\n",
    "                self.gg = self.X[i].copy()\n",
    "                self.gg_fit[0] = res[0]\n",
    "                self.gg_fit[1] = phi\n",
    "\n",
    "    def iterator(self):\n",
    "        \n",
    "        \"\"\"\n",
    "        迭代\n",
    "        \"\"\"\n",
    "        for t in range(self.max_iter):\n",
    "            curreSet = {i for i in range(self.pN)}\n",
    "            if t < 0.2*self.max_iter:\n",
    "                self.epsilon = self.epsilon0 * (1 - t / (0.2*self.max_iter))**5\n",
    "            else:\n",
    "                self.epsilon = 0\n",
    "\n",
    "            \"\"\"\n",
    "            划分第一个子种群并进化\n",
    "            \"\"\"\n",
    "            indexes = np.full(self.k, 0)\n",
    "            Uk = np.zeros((self.dim))\n",
    "            for j in range(self.dim):\n",
    "                Uk[j] = bounds[j][0] + (bounds[j][1] - bounds[j][0]) \\\n",
    "                        * np.random.uniform(0,1)\n",
    "            mindistan = 1.0e+70\n",
    "            minindex = 0\n",
    "\n",
    "            for i in curreSet:\n",
    "                distan = np.linalg.norm(self.X[i] - Uk)\n",
    "                if distan < mindistan:\n",
    "                    mindistan = distan\n",
    "                    minindex = i\n",
    "            curreSet = curreSet - {minindex}\n",
    "            indexes[0] = minindex\n",
    "\n",
    "            for j in range(1, self.k):\n",
    "                mindistan = 1.0e+70\n",
    "                minindex = 0\n",
    "                for i in curreSet:\n",
    "                    distan = np.linalg.norm(self.X[i] - self.pbest[indexes[0]])\n",
    "                    if distan < mindistan:\n",
    "                        mindistan = distan\n",
    "                        minindex = i\n",
    "                curreSet = curreSet - {minindex}\n",
    "                indexes[j] = minindex\n",
    "\n",
    "            \"\"\"\n",
    "            进化第一个种群\n",
    "            \"\"\"\n",
    "            for j in range(self.k):\n",
    "                insets = set(indexes) - {indexes[j]}\n",
    "\n",
    "                a = np.random.choice(list(insets))\n",
    "                insets = insets - {a}\n",
    "                b = np.random.choice(list(insets))\n",
    "                self.X[indexes[j]] = self.c1 * np.random.uniform(0,1) * self.pbest[indexes[j]] \\\n",
    "                                     + self.c2 * np.random.uniform(0,1) * self.gg \\\n",
    "                                     + self.c3 * np.random.uniform(0,1) * (self.pbest[a] - self.pbest[b])\n",
    "                \"\"\"\n",
    "                控制在搜索范围内\n",
    "                \"\"\"\n",
    "                for d in range(self.dim):\n",
    "                    if self.X[indexes[j]][d] < bounds[d][0]:\n",
    "                        self.X[indexes[j]][d] = bounds[d][0]\n",
    "                    if self.X[indexes[j]][d] > bounds[d][1]:\n",
    "                        self.X[indexes[j]][d] = bounds[d][1]\n",
    "\n",
    "                res = np.array(self.f(self.X[indexes[j]]))\n",
    "                v = res[1::]\n",
    "                phi = np.sum(v[v > 0])\n",
    "\n",
    "                if self.fit(res[0], phi, self.p_fit[indexes[j]][0], self.p_fit[indexes[j]][1], self.epsilon):\n",
    "                    self.p_fit[indexes[j]][0] = res[0]\n",
    "                    self.p_fit[indexes[j]][1] = phi\n",
    "                    self.pbest[indexes[j]] = self.X[indexes[j]].copy()\n",
    "                    if self.fit(res[0], phi, self.gg_fit[0], self.gg_fit[1], self.epsilon):\n",
    "                        self.gg_fit[0] = res[0]\n",
    "                        self.gg_fit[1] = phi\n",
    "                        self.gg = self.X[indexes[j]].copy()\n",
    "\n",
    "\n",
    "                print((self.gg_fit[0], self.gg_fit[1], t * 201 + (j+1)))\n",
    "\n",
    "            \"\"\"\n",
    "            划分其他子种群并进化\n",
    "            \"\"\"\n",
    "            for n in range(1, int(self.pN / self.k)):\n",
    "                preindexes = indexes\n",
    "                indexes = np.full(self.k, 0)\n",
    "                Uk = np.zeros((self.dim))\n",
    "                for j in range(self.dim):\n",
    "                    Uk[j] = bounds[j][0] + (bounds[j][1] - bounds[j][0])\\\n",
    "                                   * np.random.uniform(0,1)\n",
    "                mindistan = 1.0e+70\n",
    "                minindex = 0\n",
    "\n",
    "                for i in curreSet:\n",
    "                    distan = np.linalg.norm(self.X[i] - Uk)\n",
    "                    if distan < mindistan:\n",
    "                        mindistan = distan\n",
    "                        minindex = i\n",
    "                curreSet = curreSet - {minindex}\n",
    "                indexes[0] = minindex\n",
    "\n",
    "                for j in range(1,self.k):\n",
    "                    mindistan = 1.0e+70\n",
    "                    minindex = 0\n",
    "                    for i in curreSet:\n",
    "                        distan = np.linalg.norm(self.X[i] - self.pbest[indexes[0]])\n",
    "                        if distan < mindistan:\n",
    "                            mindistan = distan\n",
    "                            minindex = i\n",
    "                    curreSet = curreSet - {minindex}\n",
    "                    indexes[j] = minindex\n",
    "\n",
    "                for j in range(self.k):\n",
    "                    insets = set(indexes) - {indexes[j]}\n",
    "                    c = np.random.choice(list(insets))\n",
    "\n",
    "                    self.X[indexes[j]] = self.c1 * np.random.uniform(0,1) * self.pbest[indexes[j]] \\\n",
    "                                         + self.c2 * np.random.uniform(0,1) * self.gg \\\n",
    "                                         + self.c3 * np.random.uniform(0,1) * (self.pbest[preindexes[j]] - self.pbest[c])\n",
    "                    \"\"\"\n",
    "                    控制在搜索范围内\n",
    "                    \"\"\"\n",
    "                    for d in range(self.dim):\n",
    "                        if self.X[indexes[j]][d] < bounds[d][0]:\n",
    "                            self.X[indexes[j]][d] = bounds[d][0]\n",
    "                        if self.X[indexes[j]][d] > bounds[d][1]:\n",
    "                            self.X[indexes[j]][d] = bounds[d][1]\n",
    "\n",
    "                    res = np.array(self.f(self.X[indexes[j]]))\n",
    "                    v = res[1::]\n",
    "                    phi = np.sum(v[v > 0])\n",
    "\n",
    "                    if self.fit(res[0], phi, self.p_fit[indexes[j]][0], self.p_fit[indexes[j]][1], self.epsilon):\n",
    "                        self.p_fit[indexes[j]][0] = res[0]\n",
    "                        self.p_fit[indexes[j]][1] = phi\n",
    "                        self.pbest[indexes[j]] = self.X[indexes[j]].copy()\n",
    "                        if self.fit(res[0], phi, self.gg_fit[0], self.gg_fit[1], self.epsilon):\n",
    "                            self.gg_fit[0] = res[0]\n",
    "                            self.gg_fit[1] = phi\n",
    "                            self.gg = self.X[indexes[j]].copy()\n",
    "\n",
    "\n",
    "                    print((self.gg_fit[0], self.gg_fit[1], t * 201 + 10*n + (j+1)))\n",
    "\n",
    "            \"\"\"\n",
    "            记忆种群进化\n",
    "            \"\"\"\n",
    "            for i in range(self.pN):\n",
    "                indexes = {j for j in range(self.pN)} - {i}\n",
    "                e = np.random.choice(list(indexes))\n",
    "                pbest_new = self.pbest[i].copy()\n",
    "                if self.fit(self.p_fit[i][0], self.p_fit[i][1], self.p_fit[e][0], self.p_fit[e][1], self.epsilon):\n",
    "                    f = np.random.choice(list(indexes))\n",
    "                    indexes = indexes - {f}\n",
    "                    g = np.random.choice(list(indexes))\n",
    "                    indexes = indexes - {g}\n",
    "                    h = np.random.choice(list(indexes))\n",
    "                    for j in range(self.dim):\n",
    "                        if np.random.uniform(0, 1) > 0.5:\n",
    "                            pbest_new[j] = self.pbest[f][j] \\\n",
    "                                               + (np.random.uniform(-1, 1)) * (self.pbest[g][j] - self.pbest[h][j])\n",
    "                else:\n",
    "                    l = np.random.choice(list(indexes))\n",
    "                    indexes = indexes - {l}\n",
    "                    m = np.random.choice(list(indexes))\n",
    "                    pbest_new = self.pbest[i] + np.random.uniform(0,1) * (self.pbest[e] - self.pbest[i]) \\\n",
    "                                    + np.random.uniform(0,1) * (self.pbest[l] - self.pbest[m])\n",
    "\n",
    "                \"\"\"\n",
    "                控制在搜索范围内\n",
    "                \"\"\"\n",
    "                for d in range(self.dim):\n",
    "                    if pbest_new[d] < bounds[d][0]:\n",
    "                        pbest_new[d] = bounds[d][0]\n",
    "                    if pbest_new[d] > bounds[d][1]:\n",
    "                        pbest_new[d] = bounds[d][1]\n",
    "\n",
    "                res = np.array(self.f(pbest_new))\n",
    "                v = res[1::]\n",
    "                phi = np.sum(v[v > 0])\n",
    "\n",
    "                if self.fit(res[0], phi, self.p_fit[i][0], self.p_fit[i][1], self.epsilon):\n",
    "                    self.p_fit[i][0] = res[0]\n",
    "                    self.p_fit[i][1] = phi\n",
    "                    self.pbest[i] = pbest_new.copy()\n",
    "                    if self.fit(res[0], phi, self.gg_fit[0], self.gg_fit[1], self.epsilon):\n",
    "                        self.gg_fit[0] = res[0]\n",
    "                        self.gg_fit[1] = phi\n",
    "                        self.gg = pbest_new.copy()\n",
    "\n",
    "                print((self.gg_fit[0], self.gg_fit[1], t * 201 + 100 + (i+1)))\n",
    "\n",
    "            \"\"\"\n",
    "            全局最优解的混合\n",
    "            \"\"\"\n",
    "            gg_new = self.gg.copy()\n",
    "            if np.random.uniform(0,1) < (1 / self.dim):\n",
    "                dr = np.random.choice([i for i in range(self.dim)])\n",
    "                gg_new[dr] = self.gg[dr] + (np.random.uniform(0,1)) * (bounds[dr][1] - bounds[dr][0])\n",
    "                if gg_new[dr] < bounds[dr][0]:\n",
    "                    gg_new[dr] = bounds[dr][0]\n",
    "                if gg_new[dr] > bounds[dr][1]:\n",
    "                    gg_new[dr] = bounds[dr][1]\n",
    "\n",
    "            res = np.array(self.f(gg_new))\n",
    "            v = res[1::]\n",
    "            phi = np.sum(v[v > 0])\n",
    "\n",
    "            if self.fit(res[0], phi, self.gg_fit[0], self.gg_fit[1], self.epsilon):\n",
    "                self.gg_fit[0] = res[0]\n",
    "                self.gg_fit[1] = phi\n",
    "                self.gg = gg_new.copy()\n",
    "\n",
    "            self.coverage[t] = coverage_new(self.gg, p)\n",
    "            self.specificity[t] = specificity(self.gg)\n",
    "            self.O[t] = self.coverage[t] * self.specificity[t]\n",
    "            print((self.gg_fit[0], self.gg_fit[1], t * 201 + 201))\n",
    "\n",
    "\n",
    "        return 1\n"
   ]
  },
  {
   "cell_type": "code",
   "execution_count": null,
   "id": "767c5a10",
   "metadata": {
    "pycharm": {
     "name": "#%%\n"
    }
   },
   "outputs": [],
   "source": [
    "# P = CMPSOWV.PSO(100, G01.dim, 2488, 4.1/3, 4.1/3, 4.1/3, 10, 0)\n",
    "# def __init__(self, pN, dim, max_iter, c1, c2, c3, k, epsilon0):\n",
    "my_pso = PSO(100, 7, 1000, 4.1/3, 4.1/3, 4.1/3, 10, 1)\n",
    "my_pso.init_Population()\n",
    "my_pso.iterator()"
   ]
  },
  {
   "cell_type": "code",
   "execution_count": null,
   "id": "15bf5e8d",
   "metadata": {
    "pycharm": {
     "name": "#%%\n"
    }
   },
   "outputs": [],
   "source": [
    "my_pso.gg"
   ]
  },
  {
   "cell_type": "code",
   "execution_count": null,
   "id": "7e77ffbd",
   "metadata": {
    "pycharm": {
     "name": "#%%\n"
    }
   },
   "outputs": [],
   "source": [
    "coverage_new(my_pso.gg, p)"
   ]
  },
  {
   "cell_type": "code",
   "execution_count": null,
   "id": "13aa04d4",
   "metadata": {
    "pycharm": {
     "name": "#%%\n"
    }
   },
   "outputs": [],
   "source": [
    "import matplotlib\n",
    "import numpy as np\n",
    "import matplotlib.pyplot as plt"
   ]
  },
  {
   "cell_type": "code",
   "execution_count": null,
   "id": "320105c2",
   "metadata": {
    "pycharm": {
     "name": "#%%\n"
    }
   },
   "outputs": [],
   "source": [
    "##### 定义图片上的字体\n",
    "font = {'family': 'Times New Roman',\n",
    "         'style': 'normal',\n",
    "         'weight': 'light',\n",
    "        #'color':  'darkred', \n",
    "         'size': 10,\n",
    "        }\n",
    "matplotlib.rc('font', **font)"
   ]
  },
  {
   "cell_type": "code",
   "execution_count": null,
   "id": "ab56e563",
   "metadata": {
    "pycharm": {
     "name": "#%%\n"
    }
   },
   "outputs": [],
   "source": [
    "n_groups = 7\n",
    " \n",
    "fig, ax = plt.subplots()\n",
    " \n",
    "index = np.arange(n_groups)\n",
    "bar_width = 0.4\n",
    " \n",
    "opacity = 1\n",
    "error_config = {'ecolor': '0.3'}\n",
    " \n",
    "rects1 = ax.bar(index, p, bar_width,\n",
    "                alpha=opacity, \n",
    "                error_kw=error_config,\n",
    "                label=\"Statistical average\")\n",
    " \n",
    "rects2 = ax.bar(index + bar_width, my_pso.gg, bar_width,\n",
    "                alpha=opacity, \n",
    "                error_kw=error_config,\n",
    "                label='PSO optimized')\n",
    " \n",
    "# rects3 = ax.bar(index + bar_width + bar_width, data_23, bar_width,\n",
    "#                 alpha=opacity, \n",
    "#                 error_kw=error_config,\n",
    "#                 label='$M=23$')\n",
    "\n",
    "# rects4 = ax.bar(index + bar_width * 3, data_33, bar_width,\n",
    "#                 alpha=opacity, \n",
    "#                 error_kw=error_config,\n",
    "#                 label='$M=33$')\n",
    " \n",
    "ax.set_xticks(index + 2 * bar_width / 4)\n",
    "ax.set_xticklabels((\"$p_1$\", \"$p_2$\", \"$p_3$\", \"$p_4$\", \"$p_5$\", \"$p_6$\", \"$p_7$\"))\n",
    "ax.legend()\n",
    "plt.xlabel(\"Membership degree\")\n",
    "plt.ylabel(\"Value(s)\")\n",
    "# plt.grid()\n",
    "fig.tight_layout()\n",
    "plt.savefig(\"./results/Example 3/Membership.svg\", format='svg', dpi=1000)\n",
    "plt.show()"
   ]
  },
  {
   "cell_type": "code",
   "execution_count": null,
   "id": "e47107d5",
   "metadata": {
    "pycharm": {
     "name": "#%%\n"
    }
   },
   "outputs": [],
   "source": [
    "x = np.linspace(1,1001,1000)\n",
    "plt.xlim(1,1000)\n",
    "plt.ylim(0.5, 3)\n",
    "plt.ylabel(\"Values\", size=10)\n",
    "plt.xlabel(\"Number of iterations\", size=10)\n",
    "\n",
    "\n",
    "# plt.plot(x, my_pso.O, ls=\"-.\", label=\"Objective function value\")\n",
    "plt.plot(x, my_pso.coverage, ls=\"-\",  label=\"Coverage\")\n",
    "plt.plot(x, my_pso.specificity, ls=\"-\", label=\"Specificity\")\n",
    "plt.axhline(1, ls=\"--\", color=\"r\", linewidth=0.8)\n",
    "\n",
    "plt.legend()\n",
    "plt.savefig(\"./results/Example 3/o_cov_spe.svg\", format='svg', dpi=1000)\n",
    "plt.show()"
   ]
  },
  {
   "cell_type": "code",
   "execution_count": null,
   "id": "99139fdd",
   "metadata": {
    "pycharm": {
     "name": "#%%\n"
    }
   },
   "outputs": [],
   "source": [
    "x = np.linspace(1,301,300)\n",
    "plt.xlim(1,300)\n",
    "plt.ylim(0.5, 3)\n",
    "plt.ylabel(\"Values\", size=10)\n",
    "plt.xlabel(\"Number of iterations\", size=10)\n",
    "\n",
    "\n",
    "# plt.plot(x, my_pso.O, ls=\"-.\", label=\"Objective function value\")\n",
    "plt.plot(x, my_pso.coverage[0:300], ls=\"-\",  label=\"Coverage\")\n",
    "plt.plot(x, my_pso.specificity[0:300], ls=\"-\", label=\"Specificity\")\n",
    "plt.axhline(1, ls=\"--\", color=\"r\", linewidth=0.8)\n",
    "\n",
    "plt.legend()\n",
    "plt.savefig(\"./results/Example 3/o_cov_spe_xiangxi.svg\", format='svg', dpi=1000)\n",
    "plt.show()"
   ]
  },
  {
   "cell_type": "code",
   "execution_count": null,
   "id": "03b2696e",
   "metadata": {
    "pycharm": {
     "name": "#%%\n"
    }
   },
   "outputs": [],
   "source": []
  }
 ],
 "metadata": {
  "kernelspec": {
   "display_name": "Python 3 (ipykernel)",
   "language": "python",
   "name": "python3"
  },
  "language_info": {
   "codemirror_mode": {
    "name": "ipython",
    "version": 3
   },
   "file_extension": ".py",
   "mimetype": "text/x-python",
   "name": "python",
   "nbconvert_exporter": "python",
   "pygments_lexer": "ipython3",
   "version": "3.9.12"
  }
 },
 "nbformat": 4,
 "nbformat_minor": 5
}